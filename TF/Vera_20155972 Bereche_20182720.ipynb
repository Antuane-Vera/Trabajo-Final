{
 "cells": [
  {
   "cell_type": "markdown",
   "id": "45508e46",
   "metadata": {},
   "source": [
    "# Objetivos de Desarrollo Sostenible \n",
    "## En este pequeño proyecto buscamos graficar diferentes indicadores que pueden estar relacionados. Para elegir los indicadores nos hemos basado en la data disponible y también en las metas propuestas por los Objetivos de Desarrollo Sostenible. \n",
    "### Hemos utilizado la data accesible en el Banco Mundial de Datos: \n",
    "#### 1) Educación: Porcentaje de matricula a nivel secundario\n",
    "#### 2) Desnutricion : Anemia en niños de 6 a 59 meses \n",
    "#### 3) Felicidad : Libertad para tomar decisiones en la vida / Soporte social / Generosidad \n",
    "#### 4) Políticas de inclusión: 1 nivel bajo hasta 6 nivel alto de políticas de inclusión\n",
    "#### 5) Ingreso: Variable nominal sobre el nivel de ingreso en cada país (solo tenemos del año 2015)\n",
    "\n",
    "##### Para hacer los graficos y ver su relación, nos basaremos en el año 2015 para luego compararlo con el año 2018"
   ]
  },
  {
   "cell_type": "code",
   "execution_count": 344,
   "id": "1597d08b",
   "metadata": {},
   "outputs": [],
   "source": [
    "import pandas as pd\n",
    "import altair as alt\n",
    "import wbgapi as wb"
   ]
  },
  {
   "cell_type": "code",
   "execution_count": 345,
   "id": "be42f186",
   "metadata": {
    "scrolled": true
   },
   "outputs": [],
   "source": [
    "na_values = [\"..\"]\n",
    "\n",
    "EDUCACION= r\"C:\\Users\\Antuane\\Github_folder\\Ejercicios-Phyton\\Trabajo-Final\\matricula-edu.csv\"\n",
    "\n",
    "edu_sec= pd.read_csv(EDUCACION, sep=',', na_values = na_values)\n",
    "\n",
    "DESNUTRICION= r\"C:\\Users\\Antuane\\Github_folder\\Ejercicios-Phyton\\Trabajo-Final\\anemia-ninos.csv\"\n",
    "\n",
    "des_anem= pd.read_csv(DESNUTRICION, sep=',',na_values = na_values)\n",
    "\n",
    "POLINCLUSION= r\"C:\\Users\\Antuane\\Github_folder\\Ejercicios-Phyton\\Trabajo-Final\\polinclu.csv\"\n",
    "\n",
    "pol_inclu= pd.read_csv(POLINCLUSION, sep=',',na_values = na_values)\n",
    "\n",
    "INGRESO= r\"C:\\Users\\Antuane\\Github_folder\\Ejercicios-Phyton\\Trabajo-Final\\ingreso.csv\"\n",
    "\n",
    "ingreso_rangos= pd.read_csv(INGRESO, sep=',',na_values = na_values)\n",
    "\n",
    "FELICIDAD= r\"C:\\Users\\Antuane\\Github_folder\\Ejercicios-Phyton\\Trabajo-Final\\world-happiness-report.csv\"\n",
    "\n",
    "fel_all= pd.read_csv(FELICIDAD,na_values = na_values)"
   ]
  },
  {
   "cell_type": "markdown",
   "id": "b2658abe",
   "metadata": {},
   "source": [
    "### Para empezar limpiaremos las cinco bases de datos solo conservando el año 2015  \n",
    "###### Limpiamos la base de datos 1) cambiando el nombre de las columnas; 2) eliminando las NAS;  y 3) se modifica los valores para poder unir las bases de datos"
   ]
  },
  {
   "cell_type": "code",
   "execution_count": 346,
   "id": "de2f3412",
   "metadata": {
    "scrolled": true
   },
   "outputs": [],
   "source": [
    "#Educación \n",
    "edu_sec_lst = ['Country Code', 'Country Name','2015 [YR2015]']\n",
    "\n",
    "edu_sec_2015= edu_sec[edu_sec_lst]  \n",
    "#Nos quedamos con los datos que necesitamos del data frame de educación solo del año 2015"
   ]
  },
  {
   "cell_type": "code",
   "execution_count": 347,
   "id": "293ed538",
   "metadata": {
    "scrolled": true
   },
   "outputs": [
    {
     "name": "stdout",
     "output_type": "stream",
     "text": [
      "<class 'pandas.core.frame.DataFrame'>\n",
      "RangeIndex: 123 entries, 0 to 122\n",
      "Data columns (total 3 columns):\n",
      " #   Column     Non-Null Count  Dtype  \n",
      "---  ------     --------------  -----  \n",
      " 0   codigo     123 non-null    object \n",
      " 1   pais       123 non-null    object \n",
      " 2   educa2015  123 non-null    float64\n",
      "dtypes: float64(1), object(2)\n",
      "memory usage: 3.0+ KB\n"
     ]
    }
   ],
   "source": [
    "edu_sec_2015.columns = ['codigo', 'pais','educa2015'] # 1) cambiando el nombre de las columnas; \n",
    "edu_sec_2015 = edu_sec_2015[edu_sec_2015['educa2015'].notna()] #2)eliminamos los valores perdidos\n",
    "edu_sec_2015 = edu_sec_2015.reset_index(drop=True) ### Reseteamos el indice\n",
    "edu_sec_2015 = edu_sec_2015[0:123] #Seleccionamos los datos que son países\n",
    "edu_sec_2015.info()"
   ]
  },
  {
   "cell_type": "markdown",
   "id": "d75680bb",
   "metadata": {},
   "source": [
    "###### Hacemos lo mismo con los demás data frames"
   ]
  },
  {
   "cell_type": "code",
   "execution_count": 348,
   "id": "4024bf01",
   "metadata": {},
   "outputs": [
    {
     "name": "stdout",
     "output_type": "stream",
     "text": [
      "<class 'pandas.core.frame.DataFrame'>\n",
      "RangeIndex: 190 entries, 0 to 189\n",
      "Data columns (total 3 columns):\n",
      " #   Column      Non-Null Count  Dtype  \n",
      "---  ------      --------------  -----  \n",
      " 0   codigo      190 non-null    object \n",
      " 1   pais        190 non-null    object \n",
      " 2   anemia2015  190 non-null    float64\n",
      "dtypes: float64(1), object(2)\n",
      "memory usage: 4.6+ KB\n"
     ]
    }
   ],
   "source": [
    "#Anemia en niños de 6 a 59 meses des_anem\n",
    "des_anem_lst = ['Country Code', 'Country Name','2015 [YR2015]']\n",
    "\n",
    "des_anem_2015= des_anem[des_anem_lst] \n",
    "des_anem_2015.columns = ['codigo', 'pais','anemia2015'] # 1) cambiando el nombre de las columnas; \n",
    "des_anem_2015 = des_anem_2015[des_anem_2015['anemia2015'].notna()] #2)eliminamos los valores perdidos\n",
    "des_anem_2015 = des_anem_2015.reset_index(drop=True) ### Reseteamos el indice\n",
    "des_anem_2015 = des_anem_2015[0:190] #Seleccionamos los datos que son países\n",
    "des_anem_2015.info()"
   ]
  },
  {
   "cell_type": "code",
   "execution_count": 349,
   "id": "2a5a657c",
   "metadata": {},
   "outputs": [
    {
     "name": "stdout",
     "output_type": "stream",
     "text": [
      "<class 'pandas.core.frame.DataFrame'>\n",
      "RangeIndex: 76 entries, 0 to 75\n",
      "Data columns (total 3 columns):\n",
      " #   Column        Non-Null Count  Dtype  \n",
      "---  ------        --------------  -----  \n",
      " 0   codigo        76 non-null     object \n",
      " 1   pais          76 non-null     object \n",
      " 2   polinclu2015  76 non-null     float64\n",
      "dtypes: float64(1), object(2)\n",
      "memory usage: 1.9+ KB\n"
     ]
    }
   ],
   "source": [
    "#Políticas de inclusión social van desde 1 a 6 pol_inclu\n",
    "pol_inclu_lst = ['Country Code', 'Country Name','2015 [YR2015]']\n",
    "pol_inclu_2015= pol_inclu[pol_inclu_lst] \n",
    "pol_inclu_2015.columns = ['codigo', 'pais','polinclu2015'] # 1) cambiando el nombre de las columnas; \n",
    "pol_inclu_2015 = pol_inclu_2015[pol_inclu_2015['polinclu2015'].notna()] #2)eliminamos los valores perdidos\n",
    "pol_inclu_2015 = pol_inclu_2015.reset_index(drop=True) ### Reseteamos el indice\n",
    "pol_inclu_2015 = pol_inclu_2015[0:76]\n",
    "pol_inclu_2015.info()"
   ]
  },
  {
   "cell_type": "code",
   "execution_count": 350,
   "id": "fcad787b",
   "metadata": {},
   "outputs": [],
   "source": [
    "import numpy as np"
   ]
  },
  {
   "cell_type": "code",
   "execution_count": 351,
   "id": "d6df7b21",
   "metadata": {
    "scrolled": true
   },
   "outputs": [
    {
     "data": {
      "text/html": [
       "<div>\n",
       "<style scoped>\n",
       "    .dataframe tbody tr th:only-of-type {\n",
       "        vertical-align: middle;\n",
       "    }\n",
       "\n",
       "    .dataframe tbody tr th {\n",
       "        vertical-align: top;\n",
       "    }\n",
       "\n",
       "    .dataframe thead th {\n",
       "        text-align: right;\n",
       "    }\n",
       "</style>\n",
       "<table border=\"1\" class=\"dataframe\">\n",
       "  <thead>\n",
       "    <tr style=\"text-align: right;\">\n",
       "      <th></th>\n",
       "      <th>codigo</th>\n",
       "      <th>pais</th>\n",
       "      <th>polinclu2015</th>\n",
       "      <th>Niveldepolinclu</th>\n",
       "    </tr>\n",
       "  </thead>\n",
       "  <tbody>\n",
       "    <tr>\n",
       "      <th>0</th>\n",
       "      <td>AFG</td>\n",
       "      <td>Afghanistan</td>\n",
       "      <td>2.6</td>\n",
       "      <td>Bajo</td>\n",
       "    </tr>\n",
       "    <tr>\n",
       "      <th>1</th>\n",
       "      <td>BGD</td>\n",
       "      <td>Bangladesh</td>\n",
       "      <td>3.5</td>\n",
       "      <td>Alto</td>\n",
       "    </tr>\n",
       "  </tbody>\n",
       "</table>\n",
       "</div>"
      ],
      "text/plain": [
       "  codigo         pais  polinclu2015 Niveldepolinclu\n",
       "0    AFG  Afghanistan           2.6            Bajo\n",
       "1    BGD   Bangladesh           3.5            Alto"
      ]
     },
     "execution_count": 351,
     "metadata": {},
     "output_type": "execute_result"
    }
   ],
   "source": [
    "pol_inclu_2015['Niveldepolinclu']=np.where(pol_inclu_2015['polinclu2015']<3,'Bajo','Alto')\n",
    "pol_inclu_2015.head(2) #Se hace una variable dicotomica para dividir entre ALTO y BAJO la frecuencia de políticas de inclusión \n",
    "# Siendo bajo todos los valores MENORES a 3 y alto todos los valores MAYORES a 3 "
   ]
  },
  {
   "cell_type": "code",
   "execution_count": 352,
   "id": "3a8311a3",
   "metadata": {},
   "outputs": [],
   "source": [
    "#Ingresos divididos entre valores nominales ingreso_rangos\n",
    "ingreso_rangos_lst = ['Country Code', 'Country Name','Income_Group']\n",
    "ingreso_rangos_2015= ingreso_rangos[ingreso_rangos_lst] \n",
    "ingreso_rangos_2015.columns = ['codigo', 'pais','ingreso2015'] # 1) cambiando el nombre de las columnas; \n",
    "ingreso_rangos_2015 = ingreso_rangos_2015[ingreso_rangos_2015['ingreso2015'].notna()] #2)eliminamos los valores perdidos\n",
    "ingreso_rangos_2015 = ingreso_rangos_2015.reset_index(drop=True) ### Reseteamos el indice"
   ]
  },
  {
   "cell_type": "code",
   "execution_count": 353,
   "id": "a80992fe",
   "metadata": {},
   "outputs": [],
   "source": [
    "ingreso_rangos_2015['Valores'] = 0\n",
    "ingreso_rangos_2015.loc[ingreso_rangos_2015[\"ingreso2015\"].isin(['Ingreso alto',\n",
    "                                 'Ingreso mediano alto', 'Países de ingreso mediano bajo', 'Países de ingreso bajo' ]), \"Valores\"] = 1"
   ]
  },
  {
   "cell_type": "code",
   "execution_count": 354,
   "id": "5d825a00",
   "metadata": {
    "scrolled": true
   },
   "outputs": [],
   "source": [
    "ingreso_rangos_2015F = ingreso_rangos_2015[ingreso_rangos_2015['Valores'] == 1]"
   ]
  },
  {
   "cell_type": "code",
   "execution_count": 355,
   "id": "1c4e0ca4",
   "metadata": {},
   "outputs": [
    {
     "data": {
      "text/plain": [
       "Ingreso alto                      82\n",
       "Ingreso mediano alto              56\n",
       "Países de ingreso mediano bajo    50\n",
       "Países de ingreso bajo            29\n",
       "Name: ingreso2015, dtype: int64"
      ]
     },
     "execution_count": 355,
     "metadata": {},
     "output_type": "execute_result"
    }
   ],
   "source": [
    "ingreso_rangos_2015F['ingreso2015'].value_counts() #Se eliminaron los datos que no pertenecian a los países"
   ]
  },
  {
   "cell_type": "code",
   "execution_count": 356,
   "id": "dcad19a3",
   "metadata": {},
   "outputs": [],
   "source": [
    "ingreso_rangos_2015F = ingreso_rangos_2015F.reset_index(drop=True)"
   ]
  },
  {
   "cell_type": "code",
   "execution_count": 357,
   "id": "4e3139fa",
   "metadata": {},
   "outputs": [],
   "source": [
    "#Felicidad: Se busca tomar tres variables de la base de datos de felicidad\n",
    "fel_all_lst = ['Country name','year', 'Social support', 'Freedom to make life choices', 'Generosity']\n",
    "fel_all_3= fel_all[fel_all_lst] \n",
    "fel_all_3.columns = ['pais', 'year','soportesocial','libertad', 'generosidad'] # 1) cambiando el nombre de las columnas; "
   ]
  },
  {
   "cell_type": "code",
   "execution_count": 358,
   "id": "f5a9451d",
   "metadata": {},
   "outputs": [],
   "source": [
    "fel_all_2015= fel_all_3[fel_all_3['year'] == 2015]"
   ]
  },
  {
   "cell_type": "code",
   "execution_count": 359,
   "id": "5f6fe299",
   "metadata": {},
   "outputs": [
    {
     "data": {
      "text/html": [
       "<div>\n",
       "<style scoped>\n",
       "    .dataframe tbody tr th:only-of-type {\n",
       "        vertical-align: middle;\n",
       "    }\n",
       "\n",
       "    .dataframe tbody tr th {\n",
       "        vertical-align: top;\n",
       "    }\n",
       "\n",
       "    .dataframe thead th {\n",
       "        text-align: right;\n",
       "    }\n",
       "</style>\n",
       "<table border=\"1\" class=\"dataframe\">\n",
       "  <thead>\n",
       "    <tr style=\"text-align: right;\">\n",
       "      <th></th>\n",
       "      <th>pais</th>\n",
       "      <th>year</th>\n",
       "      <th>soportesocial</th>\n",
       "      <th>libertad</th>\n",
       "      <th>generosidad</th>\n",
       "    </tr>\n",
       "  </thead>\n",
       "  <tbody>\n",
       "    <tr>\n",
       "      <th>0</th>\n",
       "      <td>Afghanistan</td>\n",
       "      <td>2015</td>\n",
       "      <td>0.529</td>\n",
       "      <td>0.389</td>\n",
       "      <td>0.080</td>\n",
       "    </tr>\n",
       "    <tr>\n",
       "      <th>1</th>\n",
       "      <td>Albania</td>\n",
       "      <td>2015</td>\n",
       "      <td>0.639</td>\n",
       "      <td>0.704</td>\n",
       "      <td>-0.081</td>\n",
       "    </tr>\n",
       "    <tr>\n",
       "      <th>2</th>\n",
       "      <td>Argentina</td>\n",
       "      <td>2015</td>\n",
       "      <td>0.926</td>\n",
       "      <td>0.881</td>\n",
       "      <td>-0.174</td>\n",
       "    </tr>\n",
       "  </tbody>\n",
       "</table>\n",
       "</div>"
      ],
      "text/plain": [
       "          pais  year  soportesocial  libertad  generosidad\n",
       "0  Afghanistan  2015          0.529     0.389        0.080\n",
       "1      Albania  2015          0.639     0.704       -0.081\n",
       "2    Argentina  2015          0.926     0.881       -0.174"
      ]
     },
     "execution_count": 359,
     "metadata": {},
     "output_type": "execute_result"
    }
   ],
   "source": [
    "fel_all_2015 = fel_all_2015[fel_all_2015['soportesocial'].notna()] #2)eliminamos los valores perdidos\n",
    "fel_all_2015 = fel_all_2015[fel_all_2015['libertad'].notna()] \n",
    "fel_all_2015 = fel_all_2015[fel_all_2015['generosidad'].notna()] \n",
    "fel_all_2015 = fel_all_2015.reset_index(drop=True) ### Reseteamos el indice\n",
    "fel_all_2015.head(3)"
   ]
  },
  {
   "cell_type": "code",
   "execution_count": 360,
   "id": "9b423b32",
   "metadata": {},
   "outputs": [
    {
     "data": {
      "text/html": [
       "<div>\n",
       "<style scoped>\n",
       "    .dataframe tbody tr th:only-of-type {\n",
       "        vertical-align: middle;\n",
       "    }\n",
       "\n",
       "    .dataframe tbody tr th {\n",
       "        vertical-align: top;\n",
       "    }\n",
       "\n",
       "    .dataframe thead th {\n",
       "        text-align: right;\n",
       "    }\n",
       "</style>\n",
       "<table border=\"1\" class=\"dataframe\">\n",
       "  <thead>\n",
       "    <tr style=\"text-align: right;\">\n",
       "      <th></th>\n",
       "      <th>pais</th>\n",
       "      <th>year</th>\n",
       "      <th>soportesocial</th>\n",
       "      <th>libertad</th>\n",
       "      <th>generosidad</th>\n",
       "    </tr>\n",
       "  </thead>\n",
       "  <tbody>\n",
       "    <tr>\n",
       "      <th>0</th>\n",
       "      <td>Afghanistan</td>\n",
       "      <td>2015</td>\n",
       "      <td>52.9</td>\n",
       "      <td>38.9</td>\n",
       "      <td>8.0</td>\n",
       "    </tr>\n",
       "    <tr>\n",
       "      <th>1</th>\n",
       "      <td>Albania</td>\n",
       "      <td>2015</td>\n",
       "      <td>63.9</td>\n",
       "      <td>70.4</td>\n",
       "      <td>-8.1</td>\n",
       "    </tr>\n",
       "    <tr>\n",
       "      <th>2</th>\n",
       "      <td>Argentina</td>\n",
       "      <td>2015</td>\n",
       "      <td>92.6</td>\n",
       "      <td>88.1</td>\n",
       "      <td>-17.4</td>\n",
       "    </tr>\n",
       "  </tbody>\n",
       "</table>\n",
       "</div>"
      ],
      "text/plain": [
       "          pais  year  soportesocial  libertad  generosidad\n",
       "0  Afghanistan  2015           52.9      38.9          8.0\n",
       "1      Albania  2015           63.9      70.4         -8.1\n",
       "2    Argentina  2015           92.6      88.1        -17.4"
      ]
     },
     "execution_count": 360,
     "metadata": {},
     "output_type": "execute_result"
    }
   ],
   "source": [
    "#Tenemos que multiplicar los valores por 100 para que este en relación con las otras variables, \n",
    "#también se debe eliminar la variable \"año\"\n",
    "fel_all_2015['soportesocial'] = fel_all_2015['soportesocial'] * 100\n",
    "fel_all_2015['libertad'] = fel_all_2015['libertad'] * 100\n",
    "fel_all_2015['generosidad'] = fel_all_2015['generosidad'] * 100\n",
    "fel_all_2015.head(3)"
   ]
  },
  {
   "cell_type": "code",
   "execution_count": 361,
   "id": "b22dc481",
   "metadata": {},
   "outputs": [],
   "source": [
    "fel_all_lstF = ['pais','soportesocial', 'libertad', 'generosidad']\n",
    "fel_all_2015F= fel_all_2015[fel_all_lstF]"
   ]
  },
  {
   "cell_type": "markdown",
   "id": "ba3a691d",
   "metadata": {},
   "source": [
    "### Ahora juntaremos las bases de datos "
   ]
  },
  {
   "cell_type": "markdown",
   "id": "85e57dbc",
   "metadata": {},
   "source": [
    "##### Merge entre la base de datos de educación y anemia\n",
    "Merge 1: edu_sec_2015 +\n",
    "des_anem_2015\n",
    "\n",
    "Merge 2: pol_inclu_2015 +\n",
    "ingreso_rangos_2015F\n",
    "\n",
    "Merge 3: Merge 1 + Merge 2\n",
    "\n",
    "Merge 4: Merge 3 + fel_all_2015"
   ]
  },
  {
   "cell_type": "code",
   "execution_count": 362,
   "id": "9968e135",
   "metadata": {},
   "outputs": [],
   "source": [
    "resultado_merge_1 = pd.merge(edu_sec_2015,\n",
    "                     des_anem_2015,\n",
    "                    left_on = 'codigo',\n",
    "                    right_on = 'codigo',\n",
    "                    how = 'inner')"
   ]
  },
  {
   "cell_type": "code",
   "execution_count": 363,
   "id": "bfce7a08",
   "metadata": {},
   "outputs": [],
   "source": [
    "merge_1_lst = ['codigo', 'pais_x','educa2015','anemia2015']\n",
    "resultado_merge_1= resultado_merge_1[merge_1_lst] \n",
    "resultado_merge_1.columns = ['codigo', 'pais','educa2015','anemia2015']"
   ]
  },
  {
   "cell_type": "code",
   "execution_count": 364,
   "id": "432f19cd",
   "metadata": {},
   "outputs": [],
   "source": [
    "resultado_merge_2 = pd.merge(pol_inclu_2015,\n",
    "                     ingreso_rangos_2015F,\n",
    "                    left_on = 'codigo',\n",
    "                    right_on = 'codigo',\n",
    "                    how = 'inner')"
   ]
  },
  {
   "cell_type": "code",
   "execution_count": 365,
   "id": "2cf2f73f",
   "metadata": {},
   "outputs": [],
   "source": [
    "merge_2_lst = ['codigo', 'pais_x', 'polinclu2015','Niveldepolinclu','ingreso2015']\n",
    "resultado_merge_2= resultado_merge_2[merge_2_lst] \n",
    "resultado_merge_2.columns = ['codigo', 'pais', 'polinclu2015','Niveldepolinclu','ingreso2015']"
   ]
  },
  {
   "cell_type": "code",
   "execution_count": 366,
   "id": "7868cc6d",
   "metadata": {},
   "outputs": [
    {
     "data": {
      "text/html": [
       "<div>\n",
       "<style scoped>\n",
       "    .dataframe tbody tr th:only-of-type {\n",
       "        vertical-align: middle;\n",
       "    }\n",
       "\n",
       "    .dataframe tbody tr th {\n",
       "        vertical-align: top;\n",
       "    }\n",
       "\n",
       "    .dataframe thead th {\n",
       "        text-align: right;\n",
       "    }\n",
       "</style>\n",
       "<table border=\"1\" class=\"dataframe\">\n",
       "  <thead>\n",
       "    <tr style=\"text-align: right;\">\n",
       "      <th></th>\n",
       "      <th>codigo</th>\n",
       "      <th>pais_x</th>\n",
       "      <th>educa2015</th>\n",
       "      <th>anemia2015</th>\n",
       "      <th>pais_y</th>\n",
       "      <th>polinclu2015</th>\n",
       "      <th>Niveldepolinclu</th>\n",
       "      <th>ingreso2015</th>\n",
       "    </tr>\n",
       "  </thead>\n",
       "  <tbody>\n",
       "    <tr>\n",
       "      <th>0</th>\n",
       "      <td>AFG</td>\n",
       "      <td>Afghanistan</td>\n",
       "      <td>45.43273</td>\n",
       "      <td>43.7</td>\n",
       "      <td>Afghanistan</td>\n",
       "      <td>2.6</td>\n",
       "      <td>Bajo</td>\n",
       "      <td>Países de ingreso bajo</td>\n",
       "    </tr>\n",
       "    <tr>\n",
       "      <th>1</th>\n",
       "      <td>BGD</td>\n",
       "      <td>Bangladesh</td>\n",
       "      <td>59.13634</td>\n",
       "      <td>43.8</td>\n",
       "      <td>Bangladesh</td>\n",
       "      <td>3.5</td>\n",
       "      <td>Alto</td>\n",
       "      <td>Países de ingreso mediano bajo</td>\n",
       "    </tr>\n",
       "  </tbody>\n",
       "</table>\n",
       "</div>"
      ],
      "text/plain": [
       "  codigo       pais_x  educa2015  anemia2015       pais_y  polinclu2015  \\\n",
       "0    AFG  Afghanistan   45.43273        43.7  Afghanistan           2.6   \n",
       "1    BGD   Bangladesh   59.13634        43.8   Bangladesh           3.5   \n",
       "\n",
       "  Niveldepolinclu                     ingreso2015  \n",
       "0            Bajo          Países de ingreso bajo  \n",
       "1            Alto  Países de ingreso mediano bajo  "
      ]
     },
     "execution_count": 366,
     "metadata": {},
     "output_type": "execute_result"
    }
   ],
   "source": [
    "resultado_merge_3 = pd.merge(resultado_merge_1,\n",
    "                     resultado_merge_2,\n",
    "                    left_on = 'codigo',\n",
    "                    right_on = 'codigo',\n",
    "                    how = 'inner')\n",
    "resultado_merge_3.head(2)"
   ]
  },
  {
   "cell_type": "code",
   "execution_count": 367,
   "id": "d43d3636",
   "metadata": {},
   "outputs": [],
   "source": [
    "merge_3_lst = ['pais_x','educa2015','anemia2015','Niveldepolinclu','ingreso2015']\n",
    "resultado_merge_3= resultado_merge_3[merge_3_lst] \n",
    "resultado_merge_3.columns = ['pais', 'educa2015','anemia2015','Niveldepolinclu','ingreso2015']"
   ]
  },
  {
   "cell_type": "code",
   "execution_count": 368,
   "id": "c7fe02de",
   "metadata": {},
   "outputs": [
    {
     "data": {
      "text/html": [
       "<div>\n",
       "<style scoped>\n",
       "    .dataframe tbody tr th:only-of-type {\n",
       "        vertical-align: middle;\n",
       "    }\n",
       "\n",
       "    .dataframe tbody tr th {\n",
       "        vertical-align: top;\n",
       "    }\n",
       "\n",
       "    .dataframe thead th {\n",
       "        text-align: right;\n",
       "    }\n",
       "</style>\n",
       "<table border=\"1\" class=\"dataframe\">\n",
       "  <thead>\n",
       "    <tr style=\"text-align: right;\">\n",
       "      <th></th>\n",
       "      <th>pais</th>\n",
       "      <th>educa2015</th>\n",
       "      <th>anemia2015</th>\n",
       "      <th>Niveldepolinclu</th>\n",
       "      <th>ingreso2015</th>\n",
       "      <th>soportesocial</th>\n",
       "      <th>libertad</th>\n",
       "      <th>generosidad</th>\n",
       "    </tr>\n",
       "  </thead>\n",
       "  <tbody>\n",
       "    <tr>\n",
       "      <th>0</th>\n",
       "      <td>Afghanistan</td>\n",
       "      <td>45.43273</td>\n",
       "      <td>43.7</td>\n",
       "      <td>Bajo</td>\n",
       "      <td>Países de ingreso bajo</td>\n",
       "      <td>52.9</td>\n",
       "      <td>38.9</td>\n",
       "      <td>8.0</td>\n",
       "    </tr>\n",
       "    <tr>\n",
       "      <th>1</th>\n",
       "      <td>Bangladesh</td>\n",
       "      <td>59.13634</td>\n",
       "      <td>43.8</td>\n",
       "      <td>Alto</td>\n",
       "      <td>Países de ingreso mediano bajo</td>\n",
       "      <td>60.1</td>\n",
       "      <td>81.5</td>\n",
       "      <td>-6.8</td>\n",
       "    </tr>\n",
       "  </tbody>\n",
       "</table>\n",
       "</div>"
      ],
      "text/plain": [
       "          pais  educa2015  anemia2015 Niveldepolinclu  \\\n",
       "0  Afghanistan   45.43273        43.7            Bajo   \n",
       "1   Bangladesh   59.13634        43.8            Alto   \n",
       "\n",
       "                      ingreso2015  soportesocial  libertad  generosidad  \n",
       "0          Países de ingreso bajo           52.9      38.9          8.0  \n",
       "1  Países de ingreso mediano bajo           60.1      81.5         -6.8  "
      ]
     },
     "execution_count": 368,
     "metadata": {},
     "output_type": "execute_result"
    }
   ],
   "source": [
    "resultado_merge_4 = pd.merge(resultado_merge_3,\n",
    "                     fel_all_2015F,\n",
    "                    left_on = 'pais',\n",
    "                    right_on = 'pais',\n",
    "                    how = 'inner')\n",
    "resultado_merge_4.head(2)"
   ]
  },
  {
   "cell_type": "code",
   "execution_count": 369,
   "id": "0b73b274",
   "metadata": {},
   "outputs": [
    {
     "name": "stdout",
     "output_type": "stream",
     "text": [
      "<class 'pandas.core.frame.DataFrame'>\n",
      "Int64Index: 23 entries, 0 to 22\n",
      "Data columns (total 8 columns):\n",
      " #   Column           Non-Null Count  Dtype  \n",
      "---  ------           --------------  -----  \n",
      " 0   pais             23 non-null     object \n",
      " 1   educa2015        23 non-null     float64\n",
      " 2   anemia2015       23 non-null     float64\n",
      " 3   Niveldepolinclu  23 non-null     object \n",
      " 4   ingreso2015      23 non-null     object \n",
      " 5   soportesocial    23 non-null     float64\n",
      " 6   libertad         23 non-null     float64\n",
      " 7   generosidad      23 non-null     float64\n",
      "dtypes: float64(5), object(3)\n",
      "memory usage: 1.6+ KB\n"
     ]
    }
   ],
   "source": [
    "resultado_merge_4.info()"
   ]
  },
  {
   "cell_type": "markdown",
   "id": "f59709e4",
   "metadata": {},
   "source": [
    "## Graficos \n",
    "##### En esta sección haremos algunos graficos para poder ver como se distribuian las variables "
   ]
  },
  {
   "cell_type": "code",
   "execution_count": 370,
   "id": "aecf5634",
   "metadata": {},
   "outputs": [
    {
     "data": {
      "text/plain": [
       "ThemeRegistry.enable('mitema')"
      ]
     },
     "execution_count": 370,
     "metadata": {},
     "output_type": "execute_result"
    }
   ],
   "source": [
    "def tema_final():\n",
    "    font = \"Rubric\"\n",
    "    labelFont = \"Garamond\"\n",
    "    sourceFont = \"Calibri\"\n",
    "    \n",
    "    return {\n",
    "        \"config\" : {\n",
    "             \"title\": {'font': font, \n",
    "                       'fontSize': 15,\n",
    "                       'fontWeight': 300,\n",
    "                       'offset':0,\n",
    "                       'anchor':'left'},\n",
    "             \"axis\": {\n",
    "                  \"labelFont\": font,\n",
    "                  \"titleFont\": font,\n",
    "                  \"domainColor\": 'white'\n",
    "             },\n",
    "             \"header\": {\n",
    "                  \"labelFont\": font,\n",
    "                  \"titleFont\": font\n",
    "             },\n",
    "             \"legend\": {\n",
    "                  \"labelFont\": labelFont,\n",
    "                  \"titleFont\": labelFont,\n",
    "                  \"symbolType\": 'circle',\n",
    "                  \"padding\": 1\n",
    "                  \n",
    "             }\n",
    "             ,\n",
    "             'background': '#66ff99'             \n",
    "        }\n",
    "    }\n",
    "\n",
    "alt.themes.register('mitema', tema_final)\n",
    "alt.themes.enable('mitema')"
   ]
  },
  {
   "cell_type": "code",
   "execution_count": 371,
   "id": "bcd00ed4",
   "metadata": {},
   "outputs": [
    {
     "data": {
      "text/html": [
       "<div>\n",
       "<style scoped>\n",
       "    .dataframe tbody tr th:only-of-type {\n",
       "        vertical-align: middle;\n",
       "    }\n",
       "\n",
       "    .dataframe tbody tr th {\n",
       "        vertical-align: top;\n",
       "    }\n",
       "\n",
       "    .dataframe thead th {\n",
       "        text-align: right;\n",
       "    }\n",
       "</style>\n",
       "<table border=\"1\" class=\"dataframe\">\n",
       "  <thead>\n",
       "    <tr style=\"text-align: right;\">\n",
       "      <th></th>\n",
       "      <th>pais</th>\n",
       "      <th>educa2015</th>\n",
       "      <th>anemia2015</th>\n",
       "      <th>Niveldepolinclu</th>\n",
       "      <th>ingreso2015</th>\n",
       "      <th>soportesocial</th>\n",
       "      <th>libertad</th>\n",
       "      <th>generosidad</th>\n",
       "    </tr>\n",
       "  </thead>\n",
       "  <tbody>\n",
       "    <tr>\n",
       "      <th>0</th>\n",
       "      <td>Afghanistan</td>\n",
       "      <td>45.43273</td>\n",
       "      <td>43.7</td>\n",
       "      <td>Bajo</td>\n",
       "      <td>Países de ingreso bajo</td>\n",
       "      <td>52.9</td>\n",
       "      <td>38.9</td>\n",
       "      <td>8.0</td>\n",
       "    </tr>\n",
       "    <tr>\n",
       "      <th>1</th>\n",
       "      <td>Bangladesh</td>\n",
       "      <td>59.13634</td>\n",
       "      <td>43.8</td>\n",
       "      <td>Alto</td>\n",
       "      <td>Países de ingreso mediano bajo</td>\n",
       "      <td>60.1</td>\n",
       "      <td>81.5</td>\n",
       "      <td>-6.8</td>\n",
       "    </tr>\n",
       "    <tr>\n",
       "      <th>2</th>\n",
       "      <td>Benin</td>\n",
       "      <td>46.58049</td>\n",
       "      <td>72.0</td>\n",
       "      <td>Alto</td>\n",
       "      <td>Países de ingreso mediano bajo</td>\n",
       "      <td>43.4</td>\n",
       "      <td>73.3</td>\n",
       "      <td>-2.7</td>\n",
       "    </tr>\n",
       "    <tr>\n",
       "      <th>3</th>\n",
       "      <td>Bhutan</td>\n",
       "      <td>63.70820</td>\n",
       "      <td>47.2</td>\n",
       "      <td>Alto</td>\n",
       "      <td>Países de ingreso mediano bajo</td>\n",
       "      <td>84.8</td>\n",
       "      <td>83.0</td>\n",
       "      <td>27.7</td>\n",
       "    </tr>\n",
       "  </tbody>\n",
       "</table>\n",
       "</div>"
      ],
      "text/plain": [
       "          pais  educa2015  anemia2015 Niveldepolinclu  \\\n",
       "0  Afghanistan   45.43273        43.7            Bajo   \n",
       "1   Bangladesh   59.13634        43.8            Alto   \n",
       "2        Benin   46.58049        72.0            Alto   \n",
       "3       Bhutan   63.70820        47.2            Alto   \n",
       "\n",
       "                      ingreso2015  soportesocial  libertad  generosidad  \n",
       "0          Países de ingreso bajo           52.9      38.9          8.0  \n",
       "1  Países de ingreso mediano bajo           60.1      81.5         -6.8  \n",
       "2  Países de ingreso mediano bajo           43.4      73.3         -2.7  \n",
       "3  Países de ingreso mediano bajo           84.8      83.0         27.7  "
      ]
     },
     "execution_count": 371,
     "metadata": {},
     "output_type": "execute_result"
    }
   ],
   "source": [
    "resultado_merge_4.head(4)"
   ]
  },
  {
   "cell_type": "code",
   "execution_count": 372,
   "id": "997eb7ec",
   "metadata": {
    "scrolled": false
   },
   "outputs": [
    {
     "data": {
      "text/html": [
       "\n",
       "<div id=\"altair-viz-00da8627c348465aaaff6e87e77e4ac9\"></div>\n",
       "<script type=\"text/javascript\">\n",
       "  (function(spec, embedOpt){\n",
       "    let outputDiv = document.currentScript.previousElementSibling;\n",
       "    if (outputDiv.id !== \"altair-viz-00da8627c348465aaaff6e87e77e4ac9\") {\n",
       "      outputDiv = document.getElementById(\"altair-viz-00da8627c348465aaaff6e87e77e4ac9\");\n",
       "    }\n",
       "    const paths = {\n",
       "      \"vega\": \"https://cdn.jsdelivr.net/npm//vega@5?noext\",\n",
       "      \"vega-lib\": \"https://cdn.jsdelivr.net/npm//vega-lib?noext\",\n",
       "      \"vega-lite\": \"https://cdn.jsdelivr.net/npm//vega-lite@4.8.1?noext\",\n",
       "      \"vega-embed\": \"https://cdn.jsdelivr.net/npm//vega-embed@6?noext\",\n",
       "    };\n",
       "\n",
       "    function loadScript(lib) {\n",
       "      return new Promise(function(resolve, reject) {\n",
       "        var s = document.createElement('script');\n",
       "        s.src = paths[lib];\n",
       "        s.async = true;\n",
       "        s.onload = () => resolve(paths[lib]);\n",
       "        s.onerror = () => reject(`Error loading script: ${paths[lib]}`);\n",
       "        document.getElementsByTagName(\"head\")[0].appendChild(s);\n",
       "      });\n",
       "    }\n",
       "\n",
       "    function showError(err) {\n",
       "      outputDiv.innerHTML = `<div class=\"error\" style=\"color:red;\">${err}</div>`;\n",
       "      throw err;\n",
       "    }\n",
       "\n",
       "    function displayChart(vegaEmbed) {\n",
       "      vegaEmbed(outputDiv, spec, embedOpt)\n",
       "        .catch(err => showError(`Javascript Error: ${err.message}<br>This usually means there's a typo in your chart specification. See the javascript console for the full traceback.`));\n",
       "    }\n",
       "\n",
       "    if(typeof define === \"function\" && define.amd) {\n",
       "      requirejs.config({paths});\n",
       "      require([\"vega-embed\"], displayChart, err => showError(`Error loading script: ${err.message}`));\n",
       "    } else if (typeof vegaEmbed === \"function\") {\n",
       "      displayChart(vegaEmbed);\n",
       "    } else {\n",
       "      loadScript(\"vega\")\n",
       "        .then(() => loadScript(\"vega-lite\"))\n",
       "        .then(() => loadScript(\"vega-embed\"))\n",
       "        .catch(showError)\n",
       "        .then(() => displayChart(vegaEmbed));\n",
       "    }\n",
       "  })({\"config\": {\"title\": {\"font\": \"Rubric\", \"fontSize\": 15, \"fontWeight\": 300, \"offset\": 0, \"anchor\": \"left\"}, \"axis\": {\"labelFont\": \"Rubric\", \"titleFont\": \"Rubric\", \"domainColor\": \"white\"}, \"header\": {\"labelFont\": \"Rubric\", \"titleFont\": \"Rubric\"}, \"legend\": {\"labelFont\": \"Garamond\", \"titleFont\": \"Garamond\", \"symbolType\": \"circle\", \"padding\": 1}, \"background\": \"#66ff99\"}, \"data\": {\"name\": \"data-ee83eb97e37aa71e7cda4ee11a06efff\"}, \"mark\": \"point\", \"encoding\": {\"color\": {\"type\": \"nominal\", \"field\": \"Niveldepolinclu\"}, \"size\": {\"type\": \"quantitative\", \"field\": \"soportesocial\"}, \"x\": {\"type\": \"quantitative\", \"field\": \"anemia2015\", \"title\": \"Prevalencia de anemia en ni\\u00f1os\"}, \"y\": {\"type\": \"quantitative\", \"field\": \"educa2015\", \"title\": \"Taza de matricula a nivel secundario\"}}, \"height\": 500, \"selection\": {\"selector020\": {\"type\": \"interval\", \"bind\": \"scales\", \"encodings\": [\"x\", \"y\"]}}, \"title\": {\"text\": [\"Educaci\\u00f3n y Salud\"], \"subtitle\": [\"La relaci\\u00f3n entre salud y educaci\\u00f3n\", \"Fuente: Happiness Report y Banco Mundial\"], \"color\": \"Black\", \"subtitleColor\": \"Red\"}, \"width\": 800, \"$schema\": \"https://vega.github.io/schema/vega-lite/v4.8.1.json\", \"datasets\": {\"data-ee83eb97e37aa71e7cda4ee11a06efff\": [{\"pais\": \"Afghanistan\", \"educa2015\": 45.43273, \"anemia2015\": 43.7, \"Niveldepolinclu\": \"Bajo\", \"ingreso2015\": \"Pa\\u00edses de ingreso bajo\", \"soportesocial\": 52.900000000000006, \"libertad\": 38.9, \"generosidad\": 8.0}, {\"pais\": \"Bangladesh\", \"educa2015\": 59.13634, \"anemia2015\": 43.8, \"Niveldepolinclu\": \"Alto\", \"ingreso2015\": \"Pa\\u00edses de ingreso mediano bajo\", \"soportesocial\": 60.099999999999994, \"libertad\": 81.5, \"generosidad\": -6.800000000000001}, {\"pais\": \"Benin\", \"educa2015\": 46.58049, \"anemia2015\": 72.0, \"Niveldepolinclu\": \"Alto\", \"ingreso2015\": \"Pa\\u00edses de ingreso mediano bajo\", \"soportesocial\": 43.4, \"libertad\": 73.3, \"generosidad\": -2.7}, {\"pais\": \"Bhutan\", \"educa2015\": 63.7082, \"anemia2015\": 47.2, \"Niveldepolinclu\": \"Alto\", \"ingreso2015\": \"Pa\\u00edses de ingreso mediano bajo\", \"soportesocial\": 84.8, \"libertad\": 83.0, \"generosidad\": 27.700000000000003}, {\"pais\": \"Bolivia\", \"educa2015\": 76.68761, \"anemia2015\": 44.3, \"Niveldepolinclu\": \"Alto\", \"ingreso2015\": \"Pa\\u00edses de ingreso mediano bajo\", \"soportesocial\": 82.89999999999999, \"libertad\": 88.4, \"generosidad\": -3.0}, {\"pais\": \"Burkina Faso\", \"educa2015\": 26.53378, \"anemia2015\": 82.9, \"Niveldepolinclu\": \"Alto\", \"ingreso2015\": \"Pa\\u00edses de ingreso bajo\", \"soportesocial\": 70.5, \"libertad\": 65.9, \"generosidad\": 0.4}, {\"pais\": \"Cameroon\", \"educa2015\": 45.01617, \"anemia2015\": 62.1, \"Niveldepolinclu\": \"Alto\", \"ingreso2015\": \"Pa\\u00edses de ingreso mediano bajo\", \"soportesocial\": 64.60000000000001, \"libertad\": 79.10000000000001, \"generosidad\": 4.9}, {\"pais\": \"Chad\", \"educa2015\": 18.44135, \"anemia2015\": 71.9, \"Niveldepolinclu\": \"Bajo\", \"ingreso2015\": \"Pa\\u00edses de ingreso bajo\", \"soportesocial\": 75.1, \"libertad\": 47.4, \"generosidad\": -2.9000000000000004}, {\"pais\": \"Ethiopia\", \"educa2015\": 30.8138, \"anemia2015\": 50.5, \"Niveldepolinclu\": \"Alto\", \"ingreso2015\": \"Pa\\u00edses de ingreso bajo\", \"soportesocial\": 62.6, \"libertad\": 80.30000000000001, \"generosidad\": 11.3}, {\"pais\": \"Ghana\", \"educa2015\": 55.58338, \"anemia2015\": 65.4, \"Niveldepolinclu\": \"Alto\", \"ingreso2015\": \"Pa\\u00edses de ingreso mediano bajo\", \"soportesocial\": 68.7, \"libertad\": 85.2, \"generosidad\": -3.8}, {\"pais\": \"Honduras\", \"educa2015\": 40.80784, \"anemia2015\": 29.2, \"Niveldepolinclu\": \"Alto\", \"ingreso2015\": \"Pa\\u00edses de ingreso mediano bajo\", \"soportesocial\": 77.2, \"libertad\": 53.400000000000006, \"generosidad\": -9.700000000000001}, {\"pais\": \"Liberia\", \"educa2015\": 15.69147, \"anemia2015\": 72.5, \"Niveldepolinclu\": \"Alto\", \"ingreso2015\": \"Pa\\u00edses de ingreso bajo\", \"soportesocial\": 63.800000000000004, \"libertad\": 67.10000000000001, \"generosidad\": -6.1}, {\"pais\": \"Madagascar\", \"educa2015\": 30.28786, \"anemia2015\": 49.9, \"Niveldepolinclu\": \"Alto\", \"ingreso2015\": \"Pa\\u00edses de ingreso bajo\", \"soportesocial\": 64.7, \"libertad\": 54.50000000000001, \"generosidad\": -4.1000000000000005}, {\"pais\": \"Malawi\", \"educa2015\": 34.24597, \"anemia2015\": 57.6, \"Niveldepolinclu\": \"Alto\", \"ingreso2015\": \"Pa\\u00edses de ingreso bajo\", \"soportesocial\": 49.4, \"libertad\": 80.10000000000001, \"generosidad\": 5.800000000000001}, {\"pais\": \"Mali\", \"educa2015\": 31.36945, \"anemia2015\": 81.4, \"Niveldepolinclu\": \"Alto\", \"ingreso2015\": \"Pa\\u00edses de ingreso bajo\", \"soportesocial\": 83.0, \"libertad\": 63.4, \"generosidad\": -6.800000000000001}, {\"pais\": \"Mauritania\", \"educa2015\": 24.98002, \"anemia2015\": 68.2, \"Niveldepolinclu\": \"Alto\", \"ingreso2015\": \"Pa\\u00edses de ingreso mediano bajo\", \"soportesocial\": 87.5, \"libertad\": 44.7, \"generosidad\": 5.5}, {\"pais\": \"Moldova\", \"educa2015\": 76.40056, \"anemia2015\": 26.3, \"Niveldepolinclu\": \"Alto\", \"ingreso2015\": \"Pa\\u00edses de ingreso mediano bajo\", \"soportesocial\": 84.0, \"libertad\": 59.5, \"generosidad\": -9.0}, {\"pais\": \"Mozambique\", \"educa2015\": 19.27829, \"anemia2015\": 65.5, \"Niveldepolinclu\": \"Alto\", \"ingreso2015\": \"Pa\\u00edses de ingreso bajo\", \"soportesocial\": 66.60000000000001, \"libertad\": 81.3, \"generosidad\": 8.9}, {\"pais\": \"Niger\", \"educa2015\": 16.63379, \"anemia2015\": 75.1, \"Niveldepolinclu\": \"Alto\", \"ingreso2015\": \"Pa\\u00edses de ingreso bajo\", \"soportesocial\": 71.3, \"libertad\": 72.8, \"generosidad\": -3.2}, {\"pais\": \"Pakistan\", \"educa2015\": 34.59878, \"anemia2015\": 56.1, \"Niveldepolinclu\": \"Alto\", \"ingreso2015\": \"Pa\\u00edses de ingreso mediano bajo\", \"soportesocial\": 56.2, \"libertad\": 58.699999999999996, \"generosidad\": 8.5}, {\"pais\": \"Rwanda\", \"educa2015\": 28.1042, \"anemia2015\": 37.4, \"Niveldepolinclu\": \"Alto\", \"ingreso2015\": \"Pa\\u00edses de ingreso bajo\", \"soportesocial\": 67.80000000000001, \"libertad\": 90.8, \"generosidad\": 2.5}, {\"pais\": \"Sierra Leone\", \"educa2015\": 32.50901, \"anemia2015\": 76.8, \"Niveldepolinclu\": \"Alto\", \"ingreso2015\": \"Pa\\u00edses de ingreso bajo\", \"soportesocial\": 61.1, \"libertad\": 62.4, \"generosidad\": 5.0}, {\"pais\": \"Uzbekistan\", \"educa2015\": 88.74141, \"anemia2015\": 24.8, \"Niveldepolinclu\": \"Alto\", \"ingreso2015\": \"Pa\\u00edses de ingreso mediano bajo\", \"soportesocial\": 96.8, \"libertad\": 98.0, \"generosidad\": 37.5}]}}, {\"mode\": \"vega-lite\"});\n",
       "</script>"
      ],
      "text/plain": [
       "alt.Chart(...)"
      ]
     },
     "execution_count": 372,
     "metadata": {},
     "output_type": "execute_result"
    }
   ],
   "source": [
    "alt.Chart(resultado_merge_4, height = 500, width = 800).mark_point().encode(\n",
    "    x = alt.X(\"anemia2015:Q\", title=\"Prevalencia de anemia en niños\"),\n",
    "    y = alt.Y(\"educa2015:Q\", title= \"Taza de matricula a nivel secundario\"),\n",
    "    color = alt.Color(\"Niveldepolinclu\"),\n",
    "    size = alt.Size(\"soportesocial\")\n",
    "    ).interactive().properties(\n",
    "    title={\n",
    "      \"text\": [\"Educación y Salud\"], \n",
    "      \"subtitle\": [\"La relación entre salud y educación\",\n",
    "                   \"Fuente: Happiness Report y Banco Mundial\"],\n",
    "      \"color\": \"Black\",\n",
    "      \"subtitleColor\": \"Red\"\n",
    "    })"
   ]
  },
  {
   "cell_type": "markdown",
   "id": "9026a21a",
   "metadata": {},
   "source": [
    "#### Mientras mayor es la educación se puede ver que hay menor prevalencia de anemia. En este grafico solo podemos ver que hay una aparente relación para un estudio más amplio sería necesario hace una prueba de correlación. Adiconalmente, hemos incluido las variables dicotomica sobre el nivel de las políticas de inclusión; en el grafico no se muestra una clara relación entre estas variables dado que haria falta una mayor base de datos. "
   ]
  },
  {
   "cell_type": "code",
   "execution_count": 373,
   "id": "ad17562e",
   "metadata": {},
   "outputs": [
    {
     "data": {
      "text/plain": [
       "ThemeRegistry.enable('tema2')"
      ]
     },
     "execution_count": 373,
     "metadata": {},
     "output_type": "execute_result"
    }
   ],
   "source": [
    "def tema_f():\n",
    "    font = \"Rubric\"\n",
    "    labelFont = \"Garamond\"\n",
    "    sourceFont = \"Calibri\"\n",
    "    \n",
    "    return {\n",
    "        \"config\" : {\n",
    "             \"title\": {'font': font, \n",
    "                       'fontSize': 15,\n",
    "                       'fontWeight': 300,\n",
    "                       'offset':0,\n",
    "                       'anchor':'left'},\n",
    "             \"axis\": {\n",
    "                  \"labelFont\": font,\n",
    "                  \"titleFont\": font,\n",
    "                  \"domainColor\": 'white'\n",
    "             },\n",
    "             \"header\": {\n",
    "                  \"labelFont\": font,\n",
    "                  \"titleFont\": font\n",
    "             },\n",
    "             \"legend\": {\n",
    "                  \"labelFont\": labelFont,\n",
    "                  \"titleFont\": labelFont,\n",
    "                  \"symbolType\": 'circle',\n",
    "                  \"padding\": 1\n",
    "                  \n",
    "             }\n",
    "             ,\n",
    "             'background': '#ccffcc'             \n",
    "        }\n",
    "    }\n",
    "\n",
    "alt.themes.register('tema2', tema_f)\n",
    "alt.themes.enable('tema2')"
   ]
  },
  {
   "cell_type": "code",
   "execution_count": 374,
   "id": "9e594689",
   "metadata": {},
   "outputs": [
    {
     "data": {
      "text/html": [
       "\n",
       "<div id=\"altair-viz-07e4cd53aea14beba19618ca9c6061a0\"></div>\n",
       "<script type=\"text/javascript\">\n",
       "  (function(spec, embedOpt){\n",
       "    let outputDiv = document.currentScript.previousElementSibling;\n",
       "    if (outputDiv.id !== \"altair-viz-07e4cd53aea14beba19618ca9c6061a0\") {\n",
       "      outputDiv = document.getElementById(\"altair-viz-07e4cd53aea14beba19618ca9c6061a0\");\n",
       "    }\n",
       "    const paths = {\n",
       "      \"vega\": \"https://cdn.jsdelivr.net/npm//vega@5?noext\",\n",
       "      \"vega-lib\": \"https://cdn.jsdelivr.net/npm//vega-lib?noext\",\n",
       "      \"vega-lite\": \"https://cdn.jsdelivr.net/npm//vega-lite@4.8.1?noext\",\n",
       "      \"vega-embed\": \"https://cdn.jsdelivr.net/npm//vega-embed@6?noext\",\n",
       "    };\n",
       "\n",
       "    function loadScript(lib) {\n",
       "      return new Promise(function(resolve, reject) {\n",
       "        var s = document.createElement('script');\n",
       "        s.src = paths[lib];\n",
       "        s.async = true;\n",
       "        s.onload = () => resolve(paths[lib]);\n",
       "        s.onerror = () => reject(`Error loading script: ${paths[lib]}`);\n",
       "        document.getElementsByTagName(\"head\")[0].appendChild(s);\n",
       "      });\n",
       "    }\n",
       "\n",
       "    function showError(err) {\n",
       "      outputDiv.innerHTML = `<div class=\"error\" style=\"color:red;\">${err}</div>`;\n",
       "      throw err;\n",
       "    }\n",
       "\n",
       "    function displayChart(vegaEmbed) {\n",
       "      vegaEmbed(outputDiv, spec, embedOpt)\n",
       "        .catch(err => showError(`Javascript Error: ${err.message}<br>This usually means there's a typo in your chart specification. See the javascript console for the full traceback.`));\n",
       "    }\n",
       "\n",
       "    if(typeof define === \"function\" && define.amd) {\n",
       "      requirejs.config({paths});\n",
       "      require([\"vega-embed\"], displayChart, err => showError(`Error loading script: ${err.message}`));\n",
       "    } else if (typeof vegaEmbed === \"function\") {\n",
       "      displayChart(vegaEmbed);\n",
       "    } else {\n",
       "      loadScript(\"vega\")\n",
       "        .then(() => loadScript(\"vega-lite\"))\n",
       "        .then(() => loadScript(\"vega-embed\"))\n",
       "        .catch(showError)\n",
       "        .then(() => displayChart(vegaEmbed));\n",
       "    }\n",
       "  })({\"config\": {\"title\": {\"font\": \"Rubric\", \"fontSize\": 15, \"fontWeight\": 300, \"offset\": 0, \"anchor\": \"left\"}, \"axis\": {\"labelFont\": \"Rubric\", \"titleFont\": \"Rubric\", \"domainColor\": \"white\"}, \"header\": {\"labelFont\": \"Rubric\", \"titleFont\": \"Rubric\"}, \"legend\": {\"labelFont\": \"Garamond\", \"titleFont\": \"Garamond\", \"symbolType\": \"circle\", \"padding\": 1}, \"background\": \"#ccffcc\"}, \"layer\": [{\"mark\": \"bar\", \"encoding\": {\"x\": {\"type\": \"quantitative\", \"field\": \"libertad\"}, \"y\": {\"type\": \"nominal\", \"field\": \"pais\"}}}, {\"mark\": {\"type\": \"text\", \"align\": \"left\", \"baseline\": \"middle\", \"dx\": 3}, \"encoding\": {\"text\": {\"type\": \"quantitative\", \"field\": \"libertad\"}, \"x\": {\"type\": \"quantitative\", \"field\": \"libertad\"}, \"y\": {\"type\": \"nominal\", \"field\": \"pais\"}}}], \"data\": {\"name\": \"data-ee83eb97e37aa71e7cda4ee11a06efff\"}, \"height\": 900, \"$schema\": \"https://vega.github.io/schema/vega-lite/v4.8.1.json\", \"datasets\": {\"data-ee83eb97e37aa71e7cda4ee11a06efff\": [{\"pais\": \"Afghanistan\", \"educa2015\": 45.43273, \"anemia2015\": 43.7, \"Niveldepolinclu\": \"Bajo\", \"ingreso2015\": \"Pa\\u00edses de ingreso bajo\", \"soportesocial\": 52.900000000000006, \"libertad\": 38.9, \"generosidad\": 8.0}, {\"pais\": \"Bangladesh\", \"educa2015\": 59.13634, \"anemia2015\": 43.8, \"Niveldepolinclu\": \"Alto\", \"ingreso2015\": \"Pa\\u00edses de ingreso mediano bajo\", \"soportesocial\": 60.099999999999994, \"libertad\": 81.5, \"generosidad\": -6.800000000000001}, {\"pais\": \"Benin\", \"educa2015\": 46.58049, \"anemia2015\": 72.0, \"Niveldepolinclu\": \"Alto\", \"ingreso2015\": \"Pa\\u00edses de ingreso mediano bajo\", \"soportesocial\": 43.4, \"libertad\": 73.3, \"generosidad\": -2.7}, {\"pais\": \"Bhutan\", \"educa2015\": 63.7082, \"anemia2015\": 47.2, \"Niveldepolinclu\": \"Alto\", \"ingreso2015\": \"Pa\\u00edses de ingreso mediano bajo\", \"soportesocial\": 84.8, \"libertad\": 83.0, \"generosidad\": 27.700000000000003}, {\"pais\": \"Bolivia\", \"educa2015\": 76.68761, \"anemia2015\": 44.3, \"Niveldepolinclu\": \"Alto\", \"ingreso2015\": \"Pa\\u00edses de ingreso mediano bajo\", \"soportesocial\": 82.89999999999999, \"libertad\": 88.4, \"generosidad\": -3.0}, {\"pais\": \"Burkina Faso\", \"educa2015\": 26.53378, \"anemia2015\": 82.9, \"Niveldepolinclu\": \"Alto\", \"ingreso2015\": \"Pa\\u00edses de ingreso bajo\", \"soportesocial\": 70.5, \"libertad\": 65.9, \"generosidad\": 0.4}, {\"pais\": \"Cameroon\", \"educa2015\": 45.01617, \"anemia2015\": 62.1, \"Niveldepolinclu\": \"Alto\", \"ingreso2015\": \"Pa\\u00edses de ingreso mediano bajo\", \"soportesocial\": 64.60000000000001, \"libertad\": 79.10000000000001, \"generosidad\": 4.9}, {\"pais\": \"Chad\", \"educa2015\": 18.44135, \"anemia2015\": 71.9, \"Niveldepolinclu\": \"Bajo\", \"ingreso2015\": \"Pa\\u00edses de ingreso bajo\", \"soportesocial\": 75.1, \"libertad\": 47.4, \"generosidad\": -2.9000000000000004}, {\"pais\": \"Ethiopia\", \"educa2015\": 30.8138, \"anemia2015\": 50.5, \"Niveldepolinclu\": \"Alto\", \"ingreso2015\": \"Pa\\u00edses de ingreso bajo\", \"soportesocial\": 62.6, \"libertad\": 80.30000000000001, \"generosidad\": 11.3}, {\"pais\": \"Ghana\", \"educa2015\": 55.58338, \"anemia2015\": 65.4, \"Niveldepolinclu\": \"Alto\", \"ingreso2015\": \"Pa\\u00edses de ingreso mediano bajo\", \"soportesocial\": 68.7, \"libertad\": 85.2, \"generosidad\": -3.8}, {\"pais\": \"Honduras\", \"educa2015\": 40.80784, \"anemia2015\": 29.2, \"Niveldepolinclu\": \"Alto\", \"ingreso2015\": \"Pa\\u00edses de ingreso mediano bajo\", \"soportesocial\": 77.2, \"libertad\": 53.400000000000006, \"generosidad\": -9.700000000000001}, {\"pais\": \"Liberia\", \"educa2015\": 15.69147, \"anemia2015\": 72.5, \"Niveldepolinclu\": \"Alto\", \"ingreso2015\": \"Pa\\u00edses de ingreso bajo\", \"soportesocial\": 63.800000000000004, \"libertad\": 67.10000000000001, \"generosidad\": -6.1}, {\"pais\": \"Madagascar\", \"educa2015\": 30.28786, \"anemia2015\": 49.9, \"Niveldepolinclu\": \"Alto\", \"ingreso2015\": \"Pa\\u00edses de ingreso bajo\", \"soportesocial\": 64.7, \"libertad\": 54.50000000000001, \"generosidad\": -4.1000000000000005}, {\"pais\": \"Malawi\", \"educa2015\": 34.24597, \"anemia2015\": 57.6, \"Niveldepolinclu\": \"Alto\", \"ingreso2015\": \"Pa\\u00edses de ingreso bajo\", \"soportesocial\": 49.4, \"libertad\": 80.10000000000001, \"generosidad\": 5.800000000000001}, {\"pais\": \"Mali\", \"educa2015\": 31.36945, \"anemia2015\": 81.4, \"Niveldepolinclu\": \"Alto\", \"ingreso2015\": \"Pa\\u00edses de ingreso bajo\", \"soportesocial\": 83.0, \"libertad\": 63.4, \"generosidad\": -6.800000000000001}, {\"pais\": \"Mauritania\", \"educa2015\": 24.98002, \"anemia2015\": 68.2, \"Niveldepolinclu\": \"Alto\", \"ingreso2015\": \"Pa\\u00edses de ingreso mediano bajo\", \"soportesocial\": 87.5, \"libertad\": 44.7, \"generosidad\": 5.5}, {\"pais\": \"Moldova\", \"educa2015\": 76.40056, \"anemia2015\": 26.3, \"Niveldepolinclu\": \"Alto\", \"ingreso2015\": \"Pa\\u00edses de ingreso mediano bajo\", \"soportesocial\": 84.0, \"libertad\": 59.5, \"generosidad\": -9.0}, {\"pais\": \"Mozambique\", \"educa2015\": 19.27829, \"anemia2015\": 65.5, \"Niveldepolinclu\": \"Alto\", \"ingreso2015\": \"Pa\\u00edses de ingreso bajo\", \"soportesocial\": 66.60000000000001, \"libertad\": 81.3, \"generosidad\": 8.9}, {\"pais\": \"Niger\", \"educa2015\": 16.63379, \"anemia2015\": 75.1, \"Niveldepolinclu\": \"Alto\", \"ingreso2015\": \"Pa\\u00edses de ingreso bajo\", \"soportesocial\": 71.3, \"libertad\": 72.8, \"generosidad\": -3.2}, {\"pais\": \"Pakistan\", \"educa2015\": 34.59878, \"anemia2015\": 56.1, \"Niveldepolinclu\": \"Alto\", \"ingreso2015\": \"Pa\\u00edses de ingreso mediano bajo\", \"soportesocial\": 56.2, \"libertad\": 58.699999999999996, \"generosidad\": 8.5}, {\"pais\": \"Rwanda\", \"educa2015\": 28.1042, \"anemia2015\": 37.4, \"Niveldepolinclu\": \"Alto\", \"ingreso2015\": \"Pa\\u00edses de ingreso bajo\", \"soportesocial\": 67.80000000000001, \"libertad\": 90.8, \"generosidad\": 2.5}, {\"pais\": \"Sierra Leone\", \"educa2015\": 32.50901, \"anemia2015\": 76.8, \"Niveldepolinclu\": \"Alto\", \"ingreso2015\": \"Pa\\u00edses de ingreso bajo\", \"soportesocial\": 61.1, \"libertad\": 62.4, \"generosidad\": 5.0}, {\"pais\": \"Uzbekistan\", \"educa2015\": 88.74141, \"anemia2015\": 24.8, \"Niveldepolinclu\": \"Alto\", \"ingreso2015\": \"Pa\\u00edses de ingreso mediano bajo\", \"soportesocial\": 96.8, \"libertad\": 98.0, \"generosidad\": 37.5}]}}, {\"mode\": \"vega-lite\"});\n",
       "</script>"
      ],
      "text/plain": [
       "alt.LayerChart(...)"
      ]
     },
     "execution_count": 374,
     "metadata": {},
     "output_type": "execute_result"
    }
   ],
   "source": [
    "\n",
    "bars = alt.Chart(resultado_merge_4).mark_bar().encode(\n",
    "    x='libertad:Q',\n",
    "    y=\"pais:N\"\n",
    ")\n",
    "\n",
    "text = bars.mark_text(\n",
    "    align='left',\n",
    "    baseline='middle',\n",
    "    dx=3  # Nudges text to right so it doesn't appear on top of the bar\n",
    ").encode(\n",
    "    text='libertad:Q'\n",
    ")\n",
    "\n",
    "(bars + text).properties(height=900)"
   ]
  },
  {
   "cell_type": "code",
   "execution_count": 375,
   "id": "0b286a24",
   "metadata": {},
   "outputs": [
    {
     "data": {
      "text/plain": [
       "98.0"
      ]
     },
     "execution_count": 375,
     "metadata": {},
     "output_type": "execute_result"
    }
   ],
   "source": [
    "resultado_merge_4[\"libertad\"].max()"
   ]
  },
  {
   "cell_type": "code",
   "execution_count": 376,
   "id": "8ba96664",
   "metadata": {},
   "outputs": [
    {
     "data": {
      "text/plain": [
       "38.9"
      ]
     },
     "execution_count": 376,
     "metadata": {},
     "output_type": "execute_result"
    }
   ],
   "source": [
    "resultado_merge_4[\"libertad\"].min()"
   ]
  },
  {
   "cell_type": "code",
   "execution_count": 377,
   "id": "5372e7f7",
   "metadata": {},
   "outputs": [
    {
     "data": {
      "text/html": [
       "\n",
       "<div id=\"altair-viz-7b7cf34cdb9b4a74987943553e445d0d\"></div>\n",
       "<script type=\"text/javascript\">\n",
       "  (function(spec, embedOpt){\n",
       "    let outputDiv = document.currentScript.previousElementSibling;\n",
       "    if (outputDiv.id !== \"altair-viz-7b7cf34cdb9b4a74987943553e445d0d\") {\n",
       "      outputDiv = document.getElementById(\"altair-viz-7b7cf34cdb9b4a74987943553e445d0d\");\n",
       "    }\n",
       "    const paths = {\n",
       "      \"vega\": \"https://cdn.jsdelivr.net/npm//vega@5?noext\",\n",
       "      \"vega-lib\": \"https://cdn.jsdelivr.net/npm//vega-lib?noext\",\n",
       "      \"vega-lite\": \"https://cdn.jsdelivr.net/npm//vega-lite@4.8.1?noext\",\n",
       "      \"vega-embed\": \"https://cdn.jsdelivr.net/npm//vega-embed@6?noext\",\n",
       "    };\n",
       "\n",
       "    function loadScript(lib) {\n",
       "      return new Promise(function(resolve, reject) {\n",
       "        var s = document.createElement('script');\n",
       "        s.src = paths[lib];\n",
       "        s.async = true;\n",
       "        s.onload = () => resolve(paths[lib]);\n",
       "        s.onerror = () => reject(`Error loading script: ${paths[lib]}`);\n",
       "        document.getElementsByTagName(\"head\")[0].appendChild(s);\n",
       "      });\n",
       "    }\n",
       "\n",
       "    function showError(err) {\n",
       "      outputDiv.innerHTML = `<div class=\"error\" style=\"color:red;\">${err}</div>`;\n",
       "      throw err;\n",
       "    }\n",
       "\n",
       "    function displayChart(vegaEmbed) {\n",
       "      vegaEmbed(outputDiv, spec, embedOpt)\n",
       "        .catch(err => showError(`Javascript Error: ${err.message}<br>This usually means there's a typo in your chart specification. See the javascript console for the full traceback.`));\n",
       "    }\n",
       "\n",
       "    if(typeof define === \"function\" && define.amd) {\n",
       "      requirejs.config({paths});\n",
       "      require([\"vega-embed\"], displayChart, err => showError(`Error loading script: ${err.message}`));\n",
       "    } else if (typeof vegaEmbed === \"function\") {\n",
       "      displayChart(vegaEmbed);\n",
       "    } else {\n",
       "      loadScript(\"vega\")\n",
       "        .then(() => loadScript(\"vega-lite\"))\n",
       "        .then(() => loadScript(\"vega-embed\"))\n",
       "        .catch(showError)\n",
       "        .then(() => displayChart(vegaEmbed));\n",
       "    }\n",
       "  })({\"config\": {\"title\": {\"font\": \"Rubric\", \"fontSize\": 15, \"fontWeight\": 300, \"offset\": 0, \"anchor\": \"left\"}, \"axis\": {\"labelFont\": \"Rubric\", \"titleFont\": \"Rubric\", \"domainColor\": \"white\"}, \"header\": {\"labelFont\": \"Rubric\", \"titleFont\": \"Rubric\"}, \"legend\": {\"labelFont\": \"Garamond\", \"titleFont\": \"Garamond\", \"symbolType\": \"circle\", \"padding\": 1}, \"background\": \"#ccffcc\"}, \"layer\": [{\"mark\": \"bar\", \"encoding\": {\"x\": {\"type\": \"quantitative\", \"field\": \"anemia2015\"}, \"y\": {\"type\": \"nominal\", \"field\": \"pais\"}}}, {\"mark\": {\"type\": \"text\", \"align\": \"left\", \"baseline\": \"middle\", \"dx\": 3}, \"encoding\": {\"x\": {\"type\": \"quantitative\", \"field\": \"libertad\"}, \"y\": {\"type\": \"nominal\", \"field\": \"pais\"}}}], \"data\": {\"name\": \"data-ee83eb97e37aa71e7cda4ee11a06efff\"}, \"height\": 900, \"$schema\": \"https://vega.github.io/schema/vega-lite/v4.8.1.json\", \"datasets\": {\"data-ee83eb97e37aa71e7cda4ee11a06efff\": [{\"pais\": \"Afghanistan\", \"educa2015\": 45.43273, \"anemia2015\": 43.7, \"Niveldepolinclu\": \"Bajo\", \"ingreso2015\": \"Pa\\u00edses de ingreso bajo\", \"soportesocial\": 52.900000000000006, \"libertad\": 38.9, \"generosidad\": 8.0}, {\"pais\": \"Bangladesh\", \"educa2015\": 59.13634, \"anemia2015\": 43.8, \"Niveldepolinclu\": \"Alto\", \"ingreso2015\": \"Pa\\u00edses de ingreso mediano bajo\", \"soportesocial\": 60.099999999999994, \"libertad\": 81.5, \"generosidad\": -6.800000000000001}, {\"pais\": \"Benin\", \"educa2015\": 46.58049, \"anemia2015\": 72.0, \"Niveldepolinclu\": \"Alto\", \"ingreso2015\": \"Pa\\u00edses de ingreso mediano bajo\", \"soportesocial\": 43.4, \"libertad\": 73.3, \"generosidad\": -2.7}, {\"pais\": \"Bhutan\", \"educa2015\": 63.7082, \"anemia2015\": 47.2, \"Niveldepolinclu\": \"Alto\", \"ingreso2015\": \"Pa\\u00edses de ingreso mediano bajo\", \"soportesocial\": 84.8, \"libertad\": 83.0, \"generosidad\": 27.700000000000003}, {\"pais\": \"Bolivia\", \"educa2015\": 76.68761, \"anemia2015\": 44.3, \"Niveldepolinclu\": \"Alto\", \"ingreso2015\": \"Pa\\u00edses de ingreso mediano bajo\", \"soportesocial\": 82.89999999999999, \"libertad\": 88.4, \"generosidad\": -3.0}, {\"pais\": \"Burkina Faso\", \"educa2015\": 26.53378, \"anemia2015\": 82.9, \"Niveldepolinclu\": \"Alto\", \"ingreso2015\": \"Pa\\u00edses de ingreso bajo\", \"soportesocial\": 70.5, \"libertad\": 65.9, \"generosidad\": 0.4}, {\"pais\": \"Cameroon\", \"educa2015\": 45.01617, \"anemia2015\": 62.1, \"Niveldepolinclu\": \"Alto\", \"ingreso2015\": \"Pa\\u00edses de ingreso mediano bajo\", \"soportesocial\": 64.60000000000001, \"libertad\": 79.10000000000001, \"generosidad\": 4.9}, {\"pais\": \"Chad\", \"educa2015\": 18.44135, \"anemia2015\": 71.9, \"Niveldepolinclu\": \"Bajo\", \"ingreso2015\": \"Pa\\u00edses de ingreso bajo\", \"soportesocial\": 75.1, \"libertad\": 47.4, \"generosidad\": -2.9000000000000004}, {\"pais\": \"Ethiopia\", \"educa2015\": 30.8138, \"anemia2015\": 50.5, \"Niveldepolinclu\": \"Alto\", \"ingreso2015\": \"Pa\\u00edses de ingreso bajo\", \"soportesocial\": 62.6, \"libertad\": 80.30000000000001, \"generosidad\": 11.3}, {\"pais\": \"Ghana\", \"educa2015\": 55.58338, \"anemia2015\": 65.4, \"Niveldepolinclu\": \"Alto\", \"ingreso2015\": \"Pa\\u00edses de ingreso mediano bajo\", \"soportesocial\": 68.7, \"libertad\": 85.2, \"generosidad\": -3.8}, {\"pais\": \"Honduras\", \"educa2015\": 40.80784, \"anemia2015\": 29.2, \"Niveldepolinclu\": \"Alto\", \"ingreso2015\": \"Pa\\u00edses de ingreso mediano bajo\", \"soportesocial\": 77.2, \"libertad\": 53.400000000000006, \"generosidad\": -9.700000000000001}, {\"pais\": \"Liberia\", \"educa2015\": 15.69147, \"anemia2015\": 72.5, \"Niveldepolinclu\": \"Alto\", \"ingreso2015\": \"Pa\\u00edses de ingreso bajo\", \"soportesocial\": 63.800000000000004, \"libertad\": 67.10000000000001, \"generosidad\": -6.1}, {\"pais\": \"Madagascar\", \"educa2015\": 30.28786, \"anemia2015\": 49.9, \"Niveldepolinclu\": \"Alto\", \"ingreso2015\": \"Pa\\u00edses de ingreso bajo\", \"soportesocial\": 64.7, \"libertad\": 54.50000000000001, \"generosidad\": -4.1000000000000005}, {\"pais\": \"Malawi\", \"educa2015\": 34.24597, \"anemia2015\": 57.6, \"Niveldepolinclu\": \"Alto\", \"ingreso2015\": \"Pa\\u00edses de ingreso bajo\", \"soportesocial\": 49.4, \"libertad\": 80.10000000000001, \"generosidad\": 5.800000000000001}, {\"pais\": \"Mali\", \"educa2015\": 31.36945, \"anemia2015\": 81.4, \"Niveldepolinclu\": \"Alto\", \"ingreso2015\": \"Pa\\u00edses de ingreso bajo\", \"soportesocial\": 83.0, \"libertad\": 63.4, \"generosidad\": -6.800000000000001}, {\"pais\": \"Mauritania\", \"educa2015\": 24.98002, \"anemia2015\": 68.2, \"Niveldepolinclu\": \"Alto\", \"ingreso2015\": \"Pa\\u00edses de ingreso mediano bajo\", \"soportesocial\": 87.5, \"libertad\": 44.7, \"generosidad\": 5.5}, {\"pais\": \"Moldova\", \"educa2015\": 76.40056, \"anemia2015\": 26.3, \"Niveldepolinclu\": \"Alto\", \"ingreso2015\": \"Pa\\u00edses de ingreso mediano bajo\", \"soportesocial\": 84.0, \"libertad\": 59.5, \"generosidad\": -9.0}, {\"pais\": \"Mozambique\", \"educa2015\": 19.27829, \"anemia2015\": 65.5, \"Niveldepolinclu\": \"Alto\", \"ingreso2015\": \"Pa\\u00edses de ingreso bajo\", \"soportesocial\": 66.60000000000001, \"libertad\": 81.3, \"generosidad\": 8.9}, {\"pais\": \"Niger\", \"educa2015\": 16.63379, \"anemia2015\": 75.1, \"Niveldepolinclu\": \"Alto\", \"ingreso2015\": \"Pa\\u00edses de ingreso bajo\", \"soportesocial\": 71.3, \"libertad\": 72.8, \"generosidad\": -3.2}, {\"pais\": \"Pakistan\", \"educa2015\": 34.59878, \"anemia2015\": 56.1, \"Niveldepolinclu\": \"Alto\", \"ingreso2015\": \"Pa\\u00edses de ingreso mediano bajo\", \"soportesocial\": 56.2, \"libertad\": 58.699999999999996, \"generosidad\": 8.5}, {\"pais\": \"Rwanda\", \"educa2015\": 28.1042, \"anemia2015\": 37.4, \"Niveldepolinclu\": \"Alto\", \"ingreso2015\": \"Pa\\u00edses de ingreso bajo\", \"soportesocial\": 67.80000000000001, \"libertad\": 90.8, \"generosidad\": 2.5}, {\"pais\": \"Sierra Leone\", \"educa2015\": 32.50901, \"anemia2015\": 76.8, \"Niveldepolinclu\": \"Alto\", \"ingreso2015\": \"Pa\\u00edses de ingreso bajo\", \"soportesocial\": 61.1, \"libertad\": 62.4, \"generosidad\": 5.0}, {\"pais\": \"Uzbekistan\", \"educa2015\": 88.74141, \"anemia2015\": 24.8, \"Niveldepolinclu\": \"Alto\", \"ingreso2015\": \"Pa\\u00edses de ingreso mediano bajo\", \"soportesocial\": 96.8, \"libertad\": 98.0, \"generosidad\": 37.5}]}}, {\"mode\": \"vega-lite\"});\n",
       "</script>"
      ],
      "text/plain": [
       "alt.LayerChart(...)"
      ]
     },
     "execution_count": 377,
     "metadata": {},
     "output_type": "execute_result"
    }
   ],
   "source": [
    "bars1 = alt.Chart(resultado_merge_4).mark_bar().encode(\n",
    "    x=\"anemia2015:Q\",\n",
    "    y=\"pais:N\"\n",
    ")\n",
    "\n",
    "text1 = bars.mark_text(\n",
    "    align='left',\n",
    "    baseline='middle',\n",
    "    dx=3  # Nudges text to right so it doesn't appear on top of the bar\n",
    ").encode(\n",
    "\n",
    ")\n",
    "\n",
    "(bars1 + text1).properties(height=900)\n"
   ]
  },
  {
   "cell_type": "markdown",
   "id": "ef7933a4",
   "metadata": {},
   "source": [
    "#### En estos últimos graficos hemos visto que se relaciona las variables de libertad y anemia respectivamente. En la variable de libertad se pudo ver que habia un mayor indice de libertad en países como Uzbekistan mientras se reduce en países como Afganistan. Por otro lado, en relación a la variable de salud infantil, podemos ver que es contrario a la variable de libertad, ya que justo en Uzbekistan se ve una menor tasa de prevalencia de la anemia. Podemos concluir que la salud puede estar bastante ligada a la percepción de libertad. Al no ser una investigación amplia no se puede llegar a una conclusión certera pues puede que exista que estemos obviando una variable relevante en el estudio. "
   ]
  },
  {
   "cell_type": "markdown",
   "id": "5beb180f",
   "metadata": {},
   "source": [
    "##### Autores: Andres Bereche 20182720 / Antuané Vera 20155972"
   ]
  }
 ],
 "metadata": {
  "kernelspec": {
   "display_name": "Python 3",
   "language": "python",
   "name": "python3"
  },
  "language_info": {
   "codemirror_mode": {
    "name": "ipython",
    "version": 3
   },
   "file_extension": ".py",
   "mimetype": "text/x-python",
   "name": "python",
   "nbconvert_exporter": "python",
   "pygments_lexer": "ipython3",
   "version": "3.8.5"
  }
 },
 "nbformat": 4,
 "nbformat_minor": 5
}
